{
 "cells": [
  {
   "cell_type": "markdown",
   "metadata": {},
   "source": [
    "# Working notebook"
   ]
  },
  {
   "cell_type": "code",
   "execution_count": null,
   "metadata": {},
   "outputs": [],
   "source": [
    "import pickle\n",
    "\n",
    "result = pickle.load(open(\"result.pkl\", \"rb\"))"
   ]
  },
  {
   "cell_type": "code",
   "execution_count": null,
   "metadata": {},
   "outputs": [],
   "source": [
    "import mesa\n",
    "from model import BuildingModel\n",
    "import numpy as np\n",
    "\n",
    "ITERATIONS = 10\n",
    "MAX_STEPS = 10000\n",
    "\n",
    "params = {    \n",
    "    \"N\": range(1000, 20000, 2000 ), \n",
    "    \"perc_uninformed_agents\" : 0,\n",
    "    \"alpha\" : 1,\n",
    "    \"beta\" : 0.5,\n",
    "    \"speed_mean\" : np.arange(0.1, 1, 0.2),\n",
    "    \"speed_variance\" : 0.4,\n",
    "}\n",
    "\n",
    "\n",
    "result = mesa.batch_run(\n",
    "    BuildingModel,\n",
    "    parameters=params,\n",
    "    iterations=ITERATIONS, \n",
    "    max_steps=MAX_STEPS,\n",
    "    number_processes=12,\n",
    "    data_collection_period=1,\n",
    "    display_progress=True,\n",
    ")"
   ]
  },
  {
   "cell_type": "code",
   "execution_count": null,
   "metadata": {},
   "outputs": [],
   "source": [
    "import pandas as pd\n",
    "result_df = pd.DataFrame(result)\n",
    "\n",
    "result_df"
   ]
  },
  {
   "cell_type": "code",
   "execution_count": null,
   "metadata": {},
   "outputs": [],
   "source": [
    "result_df.info()"
   ]
  },
  {
   "cell_type": "code",
   "execution_count": null,
   "metadata": {},
   "outputs": [],
   "source": [
    "import matplotlib.pyplot as plt\n",
    "\n",
    "def get_agents_count(df):\n",
    "    \n",
    "    df1 = df\n",
    "    \n",
    "    agents_count_mean = np.zeros(shape= (4, MAX_STEPS + 1) )\n",
    "\n",
    "    for i in df1['RunId'].unique():\n",
    "        df2 = df1[df1.RunId == i][[\"Step\", \"Agents_proportion\"]].sort_values(by=\"Step\")\n",
    "\n",
    "        for j in range(len(df2)):\n",
    "            agents_count_mean[0][j] += dict(df['Agents_proportion'].iloc[j])['slow']\n",
    "            agents_count_mean[1][j] += dict(df['Agents_proportion'].iloc[j])['medium']\n",
    "            agents_count_mean[2][j] += dict(df['Agents_proportion'].iloc[j])['fast']\n",
    "            agents_count_mean[3][j] += dict(df['Agents_proportion'].iloc[j])['uninformed']\n",
    "\n",
    "\n",
    "    agents_count_mean /= ITERATIONS\n",
    "\n",
    "    return agents_count_mean\n",
    "\n",
    "agent_types = [\"slow\", \"medium\", \"fast\", \"uninformed\"]\n",
    "\n",
    "for i, agent_type in zip(get_agents_count(result_df), agent_types):\n",
    "    plt.plot(i, label=agent_type)\n",
    "\n",
    "plt.xlabel(\"Steps\")\n",
    "plt.ylabel(\"People inside\")\n",
    "plt.legend(title=\"Agent type\")\n"
   ]
  },
  {
   "cell_type": "code",
   "execution_count": null,
   "metadata": {},
   "outputs": [],
   "source": [
    "def get_active_agents_mean(df, N, speed_mean):\n",
    "    \n",
    "    df1 = df[(df.N == N) & (np.abs(df.speed_mean - speed_mean) < 1e-4)]\n",
    "    \n",
    "    active_agents_mean = np.zeros(MAX_STEPS + 1)\n",
    "\n",
    "    for i in df1['RunId'].unique():\n",
    "        df2 = df1[df1.RunId == i][[\"Step\", \"Active_agents\"]].sort_values(by=\"Step\")\n",
    "        active_agents = np.array (df2[\"Active_agents\"].tolist() )\n",
    "        active_agents_mean += active_agents\n",
    "\n",
    "    active_agents_mean /= ITERATIONS\n",
    "\n",
    "    return active_agents_mean\n",
    "\n"
   ]
  },
  {
   "cell_type": "code",
   "execution_count": null,
   "metadata": {},
   "outputs": [],
   "source": [
    "import matplotlib.pyplot as plt\n",
    "\n",
    "speed_mean = 0.9\n",
    "\n",
    "for i in params[\"N\"]:\n",
    "    r = get_active_agents_mean(result_df, i, speed_mean)\n",
    "    plt.plot(r, label = str(i)[:6])\n",
    "\n",
    "plt.xlabel(\"Steps\")\n",
    "plt.ylabel(\"People inside\")\n",
    "# plt.title(\"Number of people inside the building with different \\n variances and mean fixed to 0.8 (Gaussian distribution),\\n averaged over 10 runs\")\n",
    "\n",
    "plt.legend(title=\"Starting people\")\n",
    "plt.show()\n"
   ]
  },
  {
   "cell_type": "code",
   "execution_count": null,
   "metadata": {},
   "outputs": [],
   "source": []
  }
 ],
 "metadata": {
  "kernelspec": {
   "display_name": "cmcs",
   "language": "python",
   "name": "python3"
  },
  "language_info": {
   "codemirror_mode": {
    "name": "ipython",
    "version": 3
   },
   "file_extension": ".py",
   "mimetype": "text/x-python",
   "name": "python",
   "nbconvert_exporter": "python",
   "pygments_lexer": "ipython3",
   "version": "3.10.12"
  }
 },
 "nbformat": 4,
 "nbformat_minor": 2
}
